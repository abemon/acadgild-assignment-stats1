{
 "cells": [
  {
   "cell_type": "code",
   "execution_count": 5,
   "metadata": {},
   "outputs": [],
   "source": [
    "import statistics\n",
    "import numpy as np\n",
    "import matplotlib.pyplot as plt"
   ]
  },
  {
   "cell_type": "code",
   "execution_count": 3,
   "metadata": {},
   "outputs": [
    {
     "data": {
      "text/plain": [
       "367.9900360969936"
      ]
     },
     "execution_count": 3,
     "metadata": {},
     "output_type": "execute_result"
    }
   ],
   "source": [
    "#Problem Statement 1:You survey households in your area to find the average rent they are paying. Find the\n",
    "#standard deviation from the following data:\n",
    "\n",
    "rent = [1550, 1700, 900, 850, 1000, 950]\n",
    "\n",
    "statistics.stdev(rent)"
   ]
  },
  {
   "cell_type": "code",
   "execution_count": 4,
   "metadata": {},
   "outputs": [
    {
     "data": {
      "text/plain": [
       "6219.9"
      ]
     },
     "execution_count": 4,
     "metadata": {},
     "output_type": "execute_result"
    }
   ],
   "source": [
    "#Problem Statement 2:Find the variance for the following set of data representing trees in California (heights infeet):\n",
    "    \n",
    "trees = [3, 21, 98, 203, 17, 9]\n",
    "statistics.variance(trees)"
   ]
  },
  {
   "cell_type": "code",
   "execution_count": null,
   "metadata": {},
   "outputs": [],
   "source": [
    "#Problem Statement 3:In a class on 100 students, 80 students passed in all subjects, 10 failed in one subject, 7\n",
    "  #failed in two subjects and 3 failed in three subjects. Find the probability distribution of the variable for \n",
    "  #number of subjects a student from the given class has failed in.\n",
    "\n",
    "Solution:\n",
    "\n",
    "For a random student,\n",
    "\n",
    "The probability of failing in 0 subjects, P(X=0) = 0.8\n",
    "\n",
    "The probability of failing in 1 subjects, P(X=1) = 0.1\n",
    "\n",
    "The probability of failing in 2 subjects, P(X=2) = 0.07\n",
    "\n",
    "The probability of failing in 3 subjects, P(X=3) = 0.03\n",
    "\n",
    "The probability distribution can be shown as:\n",
    "\n",
    "   X \t 0 \t     1 \t     2 \t     3\n",
    " P(X) \t0.8 \t 0.1 \t 0.07 \t 0.03\n"
   ]
  }
 ],
 "metadata": {
  "kernelspec": {
   "display_name": "Python 3",
   "language": "python",
   "name": "python3"
  },
  "language_info": {
   "codemirror_mode": {
    "name": "ipython",
    "version": 3
   },
   "file_extension": ".py",
   "mimetype": "text/x-python",
   "name": "python",
   "nbconvert_exporter": "python",
   "pygments_lexer": "ipython3",
   "version": "3.6.5"
  }
 },
 "nbformat": 4,
 "nbformat_minor": 2
}
